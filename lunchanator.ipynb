{
 "cells": [
  {
   "cell_type": "markdown",
   "metadata": {},
   "source": [
    "# Lunchanator: The lunch deciding utility"
   ]
  },
  {
   "cell_type": "markdown",
   "metadata": {},
   "source": [
    "### Introduction\n",
    "\n",
    "The goal of this project is to solve the problem of deciding where a group of people should go eat together. Frequently coworkers and friends wish to eat together, but must make a decision as to where. In order to speed up the process and lower the probability of an argument, we will automate this decision process via a recommendation based on individual preferences using Foursquare data. \n",
    "\n",
    "The target audience is any individual interested in engaging in the social activity of eating in a large group, whether for pleasure, work, or both. Selecting a dining establishment that can accommodate several individuals' choices at once with minimal friction should be of interest to the average individual, in general."
   ]
  },
  {
   "cell_type": "markdown",
   "metadata": {},
   "source": [
    "### Data\n",
    "\n",
    "In order to complete this project, we will need two major sources of data:\n",
    "\n",
    "1. A database containing user profiles with their restaurant preferences. For now, users will have a name, a list of restaurants they enjoy, and a list of restaurants they wish to avoid. (A future version could eventually allow for a more complex profile.)\n",
    "\n",
    "2. The Foursquare location data to help find a restaurant. (A future version could make use of a restaurants rating to help select a location.)\n",
    "\n",
    "    In a future version, a third dataset would be useful for New York users:\n",
    "\n",
    "3. The NYC Open Data webpage contains a listing of restaurant grades given by the city. This could be used to select restaurants with a minimum grade score.\n",
    "\n",
    "A very basic example of user data:\n",
    "\n",
    "|         |           | \n",
    "| ------------- |:-------------:| \n",
    "| User      | James |\n",
    "| Likes      | Taco House 39, Chen's Garden, Pho Viet     | \n",
    "| Dislikes | Pizza Hut, La Sorrentina      |"
   ]
  },
  {
   "cell_type": "markdown",
   "metadata": {},
   "source": [
    "### Methodology\n",
    "\n",
    "Since no database currently contains our desired dataset on user restaurant preferences, we created one for 20 randomly generated users each having a profile with 15 local restaurants that they enjoy and 15 that they do not.\n",
    "\n",
    "In order to make a recommendation, a group of users that are going to eat together needs to be selected from the overall user dataset. Once a group is selected, Foursquare is queried for a list of restaurants that are near the group's location. The result of the query is stored as a list.\n",
    "\n",
    "We now begin constructing a dictionary where the keys are the restaurants from our Foursquare query and the values are the sum of the user preferences for that restaurant (a user contributes a 1 if they like it, -1 if they do not, and 0 if the restaurant does not appear anywhere in the user profile).\n",
    "\n",
    "Once the dictionary is constructed, it can be converted into a dataframe. Restaurants are then ordered by the sum of the user preferences. A random restaurant is selected from the top 8 choices (otherwise the utility will generate the same restaurant if the group and user preferences remain static) to introduce variety.\n",
    "\n",
    "We also have a method for determining the compatibility of two users. We can create a dictionary of restaurants that have been rated by both users. For each such restaurant we take the product of the user preferences, add up the values, and normalize. This is equivalent to taking a dot product of two vectors. Values close to 1 indicate the both users have similar preferences (it implies that both rated several restaurants the same way). This could be used to make restaurant recommendations based on other user preferences. This is an example of collaborative filtering."
   ]
  },
  {
   "cell_type": "markdown",
   "metadata": {},
   "source": [
    "### Results and Discussion\n",
    "\n",
    "The output of any run in our utility is a single restaurant. This restaurant has been selected at random from a short list of the restaurants that are the most popular among the currently selected lunch group. While the output is simply a single item, the discussion in the Methodology section shows that this output has been produced by carefully considering the preferences of all users in a lunch group. \n",
    "\n",
    "In our examples below we also compute the compatibility between <code>user0</code> and all other users. This can be used to make a recommendation for a restaurant that <code>user0</code> may like/dislike based on other user preferences."
   ]
  },
  {
   "cell_type": "markdown",
   "metadata": {},
   "source": [
    "### Conclusion\n",
    "\n",
    "Arrow's Theorem suggests that unless a lunch group is deciding where to eat between one of two choices, there is no perfect voting system for selecting an overall winner. Our goal here has been to introduce a system with a simple yet reasonable way to select a restaurant that will please as many people as possible in a lunch group. Clearly this will become more difficult as the group size increases, but we feel that this method is effective for small groups (that is, no more than 6).\n",
    "\n",
    "In a future version, users should be able to create more complicated profiles, perhaps describing their preferences based on type of cuisine, how much they like/dislike a restaurant (a ranking from -5 to 5, say), past attendance (in case a user has already attended a restaurant in the past week), restaurant grade (in New York) or rating, etc. One should therefore consider this utility as a work in progress."
   ]
  },
  {
   "cell_type": "markdown",
   "metadata": {},
   "source": [
    "### Examples\n",
    "\n",
    "Below we show some examples of our utility at work."
   ]
  },
  {
   "cell_type": "markdown",
   "metadata": {},
   "source": [
    "#### Recommendation for a lunch group"
   ]
  },
  {
   "cell_type": "markdown",
   "metadata": {},
   "source": [
    "Importing needed packages"
   ]
  },
  {
   "cell_type": "code",
   "execution_count": 1,
   "metadata": {},
   "outputs": [],
   "source": [
    "import requests\n",
    "import json\n",
    "import geocoder\n",
    "import numpy as np\n",
    "import pandas as pd"
   ]
  },
  {
   "cell_type": "markdown",
   "metadata": {},
   "source": [
    "We used the Bing geocoder because the Google limit for the month was reached via other projects."
   ]
  },
  {
   "cell_type": "code",
   "execution_count": 2,
   "metadata": {},
   "outputs": [],
   "source": [
    "g = geocoder.bing('Brooklyn, NY', key='')"
   ]
  },
  {
   "cell_type": "markdown",
   "metadata": {},
   "source": [
    "Foursquare request for restaurants in the Brooklyn, NY area."
   ]
  },
  {
   "cell_type": "code",
   "execution_count": 3,
   "metadata": {},
   "outputs": [],
   "source": [
    "url = 'https://api.foursquare.com/v2/venues/explore'\n",
    "\n",
    "params = dict(\n",
    "  client_id = '', # your Foursquare ID\n",
    "  client_secret = '', # your Foursquare Secret\n",
    "  v = '20180605', # Foursquare API version\n",
    "  ll = str(g.json['lat']) + ',' + str(g.json['lng']),\n",
    "  query = 'restaurant',\n",
    "  radius = 1000,\n",
    "  limit = 50,\n",
    ")\n",
    "resp = requests.get(url=url, params=params)\n",
    "data = json.loads(resp.text)"
   ]
  },
  {
   "cell_type": "markdown",
   "metadata": {},
   "source": [
    "Parsing results into a list containing restaurant names."
   ]
  },
  {
   "cell_type": "code",
   "execution_count": 4,
   "metadata": {},
   "outputs": [],
   "source": [
    "restaurants = []\n",
    "for m in data['response']['groups'][0]['items']:\n",
    "    restaurants.append(m['venue']['name'])"
   ]
  },
  {
   "cell_type": "markdown",
   "metadata": {},
   "source": [
    "This block generates a pretend dataset of 20 users each having selected 15 \"good\" and 15 \"bad\" restaurants each. Note that no user can have the same restaurant in both categories."
   ]
  },
  {
   "cell_type": "code",
   "execution_count": 5,
   "metadata": {},
   "outputs": [],
   "source": [
    "d = {}\n",
    "d['users'] = ['user'+str(i) for i in range(20)]\n",
    "d['good restaurants'] = []\n",
    "d['bad restaurants'] = []\n",
    "for i in range(1,21):\n",
    "    restaurant_list = np.random.choice(restaurants, size=30, replace=False)\n",
    "    d['good restaurants'].append(restaurant_list[:15])\n",
    "    d['bad restaurants'].append(restaurant_list[15:])"
   ]
  },
  {
   "cell_type": "markdown",
   "metadata": {},
   "source": [
    "Transforming the above generated data into a dataframe."
   ]
  },
  {
   "cell_type": "code",
   "execution_count": 6,
   "metadata": {},
   "outputs": [],
   "source": [
    "user_df = pd.DataFrame.from_dict(d)"
   ]
  },
  {
   "cell_type": "code",
   "execution_count": 7,
   "metadata": {},
   "outputs": [],
   "source": [
    "user_df = user_df[['users','good restaurants','bad restaurants']]"
   ]
  },
  {
   "cell_type": "markdown",
   "metadata": {},
   "source": [
    "An example of user data."
   ]
  },
  {
   "cell_type": "code",
   "execution_count": 8,
   "metadata": {},
   "outputs": [
    {
     "data": {
      "text/html": [
       "<div>\n",
       "<style scoped>\n",
       "    .dataframe tbody tr th:only-of-type {\n",
       "        vertical-align: middle;\n",
       "    }\n",
       "\n",
       "    .dataframe tbody tr th {\n",
       "        vertical-align: top;\n",
       "    }\n",
       "\n",
       "    .dataframe thead th {\n",
       "        text-align: right;\n",
       "    }\n",
       "</style>\n",
       "<table border=\"1\" class=\"dataframe\">\n",
       "  <thead>\n",
       "    <tr style=\"text-align: right;\">\n",
       "      <th></th>\n",
       "      <th>users</th>\n",
       "      <th>good restaurants</th>\n",
       "      <th>bad restaurants</th>\n",
       "    </tr>\n",
       "  </thead>\n",
       "  <tbody>\n",
       "    <tr>\n",
       "      <th>0</th>\n",
       "      <td>user0</td>\n",
       "      <td>[Wild Ginger, Five Guys, Korilla BBQ, Pio Bage...</td>\n",
       "      <td>[Iron Chef House, La Vara, Lassen &amp; Hennigs, B...</td>\n",
       "    </tr>\n",
       "    <tr>\n",
       "      <th>1</th>\n",
       "      <td>user1</td>\n",
       "      <td>[Yaso Tangbao, Five Guys, Dellarocco's, French...</td>\n",
       "      <td>[Iron Chef House, Five Guys, Chipotle Mexican ...</td>\n",
       "    </tr>\n",
       "    <tr>\n",
       "      <th>2</th>\n",
       "      <td>user2</td>\n",
       "      <td>[Iron Chef House, DeKalb Market Hall, Bareburg...</td>\n",
       "      <td>[Korilla BBQ, Luzzo's BK, Hibino, two8two Bar ...</td>\n",
       "    </tr>\n",
       "    <tr>\n",
       "      <th>3</th>\n",
       "      <td>user3</td>\n",
       "      <td>[Pio Bagel, Gregory's Coffee, Korilla BBQ, Mil...</td>\n",
       "      <td>[Damascus Bread &amp; Pastry Shop, Shelsky's of Br...</td>\n",
       "    </tr>\n",
       "    <tr>\n",
       "      <th>4</th>\n",
       "      <td>user4</td>\n",
       "      <td>[two8two Bar &amp; Burger, Court Street Bagels, Mi...</td>\n",
       "      <td>[La Bagel Delight, The Gumbo Bros, Fast and Fr...</td>\n",
       "    </tr>\n",
       "  </tbody>\n",
       "</table>\n",
       "</div>"
      ],
      "text/plain": [
       "   users                                   good restaurants  \\\n",
       "0  user0  [Wild Ginger, Five Guys, Korilla BBQ, Pio Bage...   \n",
       "1  user1  [Yaso Tangbao, Five Guys, Dellarocco's, French...   \n",
       "2  user2  [Iron Chef House, DeKalb Market Hall, Bareburg...   \n",
       "3  user3  [Pio Bagel, Gregory's Coffee, Korilla BBQ, Mil...   \n",
       "4  user4  [two8two Bar & Burger, Court Street Bagels, Mi...   \n",
       "\n",
       "                                     bad restaurants  \n",
       "0  [Iron Chef House, La Vara, Lassen & Hennigs, B...  \n",
       "1  [Iron Chef House, Five Guys, Chipotle Mexican ...  \n",
       "2  [Korilla BBQ, Luzzo's BK, Hibino, two8two Bar ...  \n",
       "3  [Damascus Bread & Pastry Shop, Shelsky's of Br...  \n",
       "4  [La Bagel Delight, The Gumbo Bros, Fast and Fr...  "
      ]
     },
     "execution_count": 8,
     "metadata": {},
     "output_type": "execute_result"
    }
   ],
   "source": [
    "user_df.head()"
   ]
  },
  {
   "cell_type": "markdown",
   "metadata": {},
   "source": [
    "Creating a group of 6 people at random that wish to have lunch together."
   ]
  },
  {
   "cell_type": "code",
   "execution_count": 9,
   "metadata": {},
   "outputs": [],
   "source": [
    "df_lunch_group = user_df.sample(n=6)"
   ]
  },
  {
   "cell_type": "code",
   "execution_count": 10,
   "metadata": {},
   "outputs": [],
   "source": [
    "df_lunch_group = df_lunch_group.sort_index()"
   ]
  },
  {
   "cell_type": "markdown",
   "metadata": {},
   "source": [
    "The lunch group."
   ]
  },
  {
   "cell_type": "code",
   "execution_count": 11,
   "metadata": {},
   "outputs": [
    {
     "data": {
      "text/html": [
       "<div>\n",
       "<style scoped>\n",
       "    .dataframe tbody tr th:only-of-type {\n",
       "        vertical-align: middle;\n",
       "    }\n",
       "\n",
       "    .dataframe tbody tr th {\n",
       "        vertical-align: top;\n",
       "    }\n",
       "\n",
       "    .dataframe thead th {\n",
       "        text-align: right;\n",
       "    }\n",
       "</style>\n",
       "<table border=\"1\" class=\"dataframe\">\n",
       "  <thead>\n",
       "    <tr style=\"text-align: right;\">\n",
       "      <th></th>\n",
       "      <th>users</th>\n",
       "      <th>good restaurants</th>\n",
       "      <th>bad restaurants</th>\n",
       "    </tr>\n",
       "  </thead>\n",
       "  <tbody>\n",
       "    <tr>\n",
       "      <th>4</th>\n",
       "      <td>user4</td>\n",
       "      <td>[two8two Bar &amp; Burger, Court Street Bagels, Mi...</td>\n",
       "      <td>[La Bagel Delight, The Gumbo Bros, Fast and Fr...</td>\n",
       "    </tr>\n",
       "    <tr>\n",
       "      <th>11</th>\n",
       "      <td>user11</td>\n",
       "      <td>[Panera Bread, Dellarocco's, Grand Army, La Ba...</td>\n",
       "      <td>[The Atlantic ChipShop, Chez Moi, Pio Bagel, F...</td>\n",
       "    </tr>\n",
       "    <tr>\n",
       "      <th>12</th>\n",
       "      <td>user12</td>\n",
       "      <td>[Damascus Bread &amp; Pastry Shop, Ki Sushi, Frenc...</td>\n",
       "      <td>[One Girl Cookies, Gregory's Coffee, The Atlan...</td>\n",
       "    </tr>\n",
       "    <tr>\n",
       "      <th>13</th>\n",
       "      <td>user13</td>\n",
       "      <td>[Damascus Bread &amp; Pastry Shop, Yaso Tangbao, F...</td>\n",
       "      <td>[Wild Ginger, Hibino, Rocco's Tacos and Tequil...</td>\n",
       "    </tr>\n",
       "    <tr>\n",
       "      <th>15</th>\n",
       "      <td>user15</td>\n",
       "      <td>[Five Guys, Iron Chef House, Hibino, Doner Keb...</td>\n",
       "      <td>[Five Guys, Luzzo's BK, Court Street Bagels, F...</td>\n",
       "    </tr>\n",
       "    <tr>\n",
       "      <th>19</th>\n",
       "      <td>user19</td>\n",
       "      <td>[Five Guys, Panera Bread, Mile End Delicatesse...</td>\n",
       "      <td>[Yaso Tangbao, Yemen Cafe, Shelsky's of Brookl...</td>\n",
       "    </tr>\n",
       "  </tbody>\n",
       "</table>\n",
       "</div>"
      ],
      "text/plain": [
       "     users                                   good restaurants  \\\n",
       "4    user4  [two8two Bar & Burger, Court Street Bagels, Mi...   \n",
       "11  user11  [Panera Bread, Dellarocco's, Grand Army, La Ba...   \n",
       "12  user12  [Damascus Bread & Pastry Shop, Ki Sushi, Frenc...   \n",
       "13  user13  [Damascus Bread & Pastry Shop, Yaso Tangbao, F...   \n",
       "15  user15  [Five Guys, Iron Chef House, Hibino, Doner Keb...   \n",
       "19  user19  [Five Guys, Panera Bread, Mile End Delicatesse...   \n",
       "\n",
       "                                      bad restaurants  \n",
       "4   [La Bagel Delight, The Gumbo Bros, Fast and Fr...  \n",
       "11  [The Atlantic ChipShop, Chez Moi, Pio Bagel, F...  \n",
       "12  [One Girl Cookies, Gregory's Coffee, The Atlan...  \n",
       "13  [Wild Ginger, Hibino, Rocco's Tacos and Tequil...  \n",
       "15  [Five Guys, Luzzo's BK, Court Street Bagels, F...  \n",
       "19  [Yaso Tangbao, Yemen Cafe, Shelsky's of Brookl...  "
      ]
     },
     "execution_count": 11,
     "metadata": {},
     "output_type": "execute_result"
    }
   ],
   "source": [
    "df_lunch_group"
   ]
  },
  {
   "cell_type": "markdown",
   "metadata": {},
   "source": [
    "Creating the list of restaurants that will be voted on."
   ]
  },
  {
   "cell_type": "code",
   "execution_count": 12,
   "metadata": {},
   "outputs": [],
   "source": [
    "lunch_votes = [(restaurant,0) for restaurant in restaurants]"
   ]
  },
  {
   "cell_type": "code",
   "execution_count": 13,
   "metadata": {},
   "outputs": [],
   "source": [
    "lunch_dict = dict(lunch_votes)"
   ]
  },
  {
   "cell_type": "markdown",
   "metadata": {},
   "source": [
    "Tallying votes."
   ]
  },
  {
   "cell_type": "code",
   "execution_count": 14,
   "metadata": {},
   "outputs": [],
   "source": [
    "for rest in lunch_dict.keys():\n",
    "    for good_choice in df_lunch_group['good restaurants']:\n",
    "        if rest in good_choice:\n",
    "            lunch_dict[rest] += 1\n",
    "    for bad_choice in df_lunch_group['bad restaurants']:\n",
    "        if rest in bad_choice:\n",
    "            lunch_dict[rest] -= 1"
   ]
  },
  {
   "cell_type": "markdown",
   "metadata": {},
   "source": [
    "Conversion to properly formatted dataframe."
   ]
  },
  {
   "cell_type": "code",
   "execution_count": 15,
   "metadata": {},
   "outputs": [],
   "source": [
    "d = {'restaurants': [], 'votes': []}\n",
    "for k,v in lunch_dict.items():\n",
    "    d['restaurants'].append(k)\n",
    "    d['votes'].append(v)"
   ]
  },
  {
   "cell_type": "code",
   "execution_count": 16,
   "metadata": {},
   "outputs": [],
   "source": [
    "df_lunch_votes = pd.DataFrame.from_dict(d)"
   ]
  },
  {
   "cell_type": "markdown",
   "metadata": {},
   "source": [
    "Sorting the list of restaurants by vote count."
   ]
  },
  {
   "cell_type": "code",
   "execution_count": 17,
   "metadata": {},
   "outputs": [],
   "source": [
    "df_lunch_votes_sorted = df_lunch_votes.sort_values('votes', ascending = False)"
   ]
  },
  {
   "cell_type": "markdown",
   "metadata": {},
   "source": [
    "The sorted list."
   ]
  },
  {
   "cell_type": "code",
   "execution_count": 18,
   "metadata": {},
   "outputs": [
    {
     "data": {
      "text/html": [
       "<div>\n",
       "<style scoped>\n",
       "    .dataframe tbody tr th:only-of-type {\n",
       "        vertical-align: middle;\n",
       "    }\n",
       "\n",
       "    .dataframe tbody tr th {\n",
       "        vertical-align: top;\n",
       "    }\n",
       "\n",
       "    .dataframe thead th {\n",
       "        text-align: right;\n",
       "    }\n",
       "</style>\n",
       "<table border=\"1\" class=\"dataframe\">\n",
       "  <thead>\n",
       "    <tr style=\"text-align: right;\">\n",
       "      <th></th>\n",
       "      <th>restaurants</th>\n",
       "      <th>votes</th>\n",
       "    </tr>\n",
       "  </thead>\n",
       "  <tbody>\n",
       "    <tr>\n",
       "      <th>41</th>\n",
       "      <td>DeKalb Market Hall</td>\n",
       "      <td>4</td>\n",
       "    </tr>\n",
       "    <tr>\n",
       "      <th>14</th>\n",
       "      <td>Panera Bread</td>\n",
       "      <td>3</td>\n",
       "    </tr>\n",
       "    <tr>\n",
       "      <th>10</th>\n",
       "      <td>Colonie</td>\n",
       "      <td>3</td>\n",
       "    </tr>\n",
       "    <tr>\n",
       "      <th>39</th>\n",
       "      <td>Korilla BBQ</td>\n",
       "      <td>3</td>\n",
       "    </tr>\n",
       "    <tr>\n",
       "      <th>5</th>\n",
       "      <td>The Gumbo Bros</td>\n",
       "      <td>3</td>\n",
       "    </tr>\n",
       "    <tr>\n",
       "      <th>23</th>\n",
       "      <td>two8two Bar &amp; Burger</td>\n",
       "      <td>2</td>\n",
       "    </tr>\n",
       "    <tr>\n",
       "      <th>31</th>\n",
       "      <td>Mile End Delicatessen</td>\n",
       "      <td>2</td>\n",
       "    </tr>\n",
       "    <tr>\n",
       "      <th>28</th>\n",
       "      <td>Maison Kayser</td>\n",
       "      <td>2</td>\n",
       "    </tr>\n",
       "    <tr>\n",
       "      <th>2</th>\n",
       "      <td>La Bagel Delight</td>\n",
       "      <td>2</td>\n",
       "    </tr>\n",
       "    <tr>\n",
       "      <th>6</th>\n",
       "      <td>Sophies Cuban Cuisine</td>\n",
       "      <td>2</td>\n",
       "    </tr>\n",
       "    <tr>\n",
       "      <th>8</th>\n",
       "      <td>My Little Pizzeria</td>\n",
       "      <td>1</td>\n",
       "    </tr>\n",
       "    <tr>\n",
       "      <th>46</th>\n",
       "      <td>Chipotle Mexican Grill</td>\n",
       "      <td>1</td>\n",
       "    </tr>\n",
       "    <tr>\n",
       "      <th>26</th>\n",
       "      <td>Lassen &amp; Hennigs</td>\n",
       "      <td>1</td>\n",
       "    </tr>\n",
       "    <tr>\n",
       "      <th>35</th>\n",
       "      <td>Five Guys</td>\n",
       "      <td>1</td>\n",
       "    </tr>\n",
       "    <tr>\n",
       "      <th>1</th>\n",
       "      <td>Damascus Bread &amp; Pastry Shop</td>\n",
       "      <td>1</td>\n",
       "    </tr>\n",
       "    <tr>\n",
       "      <th>38</th>\n",
       "      <td>Doner Kebab NYC</td>\n",
       "      <td>1</td>\n",
       "    </tr>\n",
       "    <tr>\n",
       "      <th>15</th>\n",
       "      <td>Bien Cuit</td>\n",
       "      <td>1</td>\n",
       "    </tr>\n",
       "    <tr>\n",
       "      <th>13</th>\n",
       "      <td>Luzzo's BK</td>\n",
       "      <td>1</td>\n",
       "    </tr>\n",
       "    <tr>\n",
       "      <th>44</th>\n",
       "      <td>Iron Chef House</td>\n",
       "      <td>1</td>\n",
       "    </tr>\n",
       "    <tr>\n",
       "      <th>7</th>\n",
       "      <td>Sottocasa Pizzeria</td>\n",
       "      <td>1</td>\n",
       "    </tr>\n",
       "    <tr>\n",
       "      <th>17</th>\n",
       "      <td>Grand Army</td>\n",
       "      <td>0</td>\n",
       "    </tr>\n",
       "    <tr>\n",
       "      <th>16</th>\n",
       "      <td>Dos Toros Taquería</td>\n",
       "      <td>0</td>\n",
       "    </tr>\n",
       "    <tr>\n",
       "      <th>42</th>\n",
       "      <td>La Vara</td>\n",
       "      <td>0</td>\n",
       "    </tr>\n",
       "    <tr>\n",
       "      <th>47</th>\n",
       "      <td>Yaso Tangbao</td>\n",
       "      <td>0</td>\n",
       "    </tr>\n",
       "    <tr>\n",
       "      <th>3</th>\n",
       "      <td>Shelsky's of Brooklyn</td>\n",
       "      <td>0</td>\n",
       "    </tr>\n",
       "    <tr>\n",
       "      <th>33</th>\n",
       "      <td>The Atlantic ChipShop</td>\n",
       "      <td>0</td>\n",
       "    </tr>\n",
       "    <tr>\n",
       "      <th>45</th>\n",
       "      <td>Piz-zetta</td>\n",
       "      <td>0</td>\n",
       "    </tr>\n",
       "    <tr>\n",
       "      <th>34</th>\n",
       "      <td>Bar Tabac</td>\n",
       "      <td>0</td>\n",
       "    </tr>\n",
       "    <tr>\n",
       "      <th>18</th>\n",
       "      <td>Paris Baguette</td>\n",
       "      <td>0</td>\n",
       "    </tr>\n",
       "    <tr>\n",
       "      <th>0</th>\n",
       "      <td>Queen</td>\n",
       "      <td>-1</td>\n",
       "    </tr>\n",
       "    <tr>\n",
       "      <th>32</th>\n",
       "      <td>Chez Moi</td>\n",
       "      <td>-1</td>\n",
       "    </tr>\n",
       "    <tr>\n",
       "      <th>48</th>\n",
       "      <td>River Deli</td>\n",
       "      <td>-1</td>\n",
       "    </tr>\n",
       "    <tr>\n",
       "      <th>27</th>\n",
       "      <td>Rocco's Tacos and Tequila Bar Brooklyn</td>\n",
       "      <td>-1</td>\n",
       "    </tr>\n",
       "    <tr>\n",
       "      <th>25</th>\n",
       "      <td>Court Street Bagels</td>\n",
       "      <td>-1</td>\n",
       "    </tr>\n",
       "    <tr>\n",
       "      <th>22</th>\n",
       "      <td>Henry Public</td>\n",
       "      <td>-1</td>\n",
       "    </tr>\n",
       "    <tr>\n",
       "      <th>21</th>\n",
       "      <td>Hibino</td>\n",
       "      <td>-1</td>\n",
       "    </tr>\n",
       "    <tr>\n",
       "      <th>4</th>\n",
       "      <td>Yemen Cafe</td>\n",
       "      <td>-1</td>\n",
       "    </tr>\n",
       "    <tr>\n",
       "      <th>20</th>\n",
       "      <td>Dellarocco's</td>\n",
       "      <td>-1</td>\n",
       "    </tr>\n",
       "    <tr>\n",
       "      <th>9</th>\n",
       "      <td>Gregory's Coffee</td>\n",
       "      <td>-1</td>\n",
       "    </tr>\n",
       "    <tr>\n",
       "      <th>40</th>\n",
       "      <td>Bareburger</td>\n",
       "      <td>-2</td>\n",
       "    </tr>\n",
       "    <tr>\n",
       "      <th>36</th>\n",
       "      <td>Pio Bagel</td>\n",
       "      <td>-2</td>\n",
       "    </tr>\n",
       "    <tr>\n",
       "      <th>37</th>\n",
       "      <td>Saketumi Asian Bistro</td>\n",
       "      <td>-2</td>\n",
       "    </tr>\n",
       "    <tr>\n",
       "      <th>43</th>\n",
       "      <td>Sushi Gallery</td>\n",
       "      <td>-2</td>\n",
       "    </tr>\n",
       "    <tr>\n",
       "      <th>11</th>\n",
       "      <td>French Louie</td>\n",
       "      <td>-3</td>\n",
       "    </tr>\n",
       "    <tr>\n",
       "      <th>30</th>\n",
       "      <td>Fast and Fresh Burrito Deli</td>\n",
       "      <td>-3</td>\n",
       "    </tr>\n",
       "    <tr>\n",
       "      <th>19</th>\n",
       "      <td>Ki Sushi</td>\n",
       "      <td>-3</td>\n",
       "    </tr>\n",
       "    <tr>\n",
       "      <th>29</th>\n",
       "      <td>Beasts &amp; Bottles</td>\n",
       "      <td>-3</td>\n",
       "    </tr>\n",
       "    <tr>\n",
       "      <th>24</th>\n",
       "      <td>One Girl Cookies</td>\n",
       "      <td>-3</td>\n",
       "    </tr>\n",
       "    <tr>\n",
       "      <th>12</th>\n",
       "      <td>Wild Ginger</td>\n",
       "      <td>-4</td>\n",
       "    </tr>\n",
       "  </tbody>\n",
       "</table>\n",
       "</div>"
      ],
      "text/plain": [
       "                               restaurants  votes\n",
       "41                      DeKalb Market Hall      4\n",
       "14                            Panera Bread      3\n",
       "10                                 Colonie      3\n",
       "39                             Korilla BBQ      3\n",
       "5                           The Gumbo Bros      3\n",
       "23                    two8two Bar & Burger      2\n",
       "31                   Mile End Delicatessen      2\n",
       "28                           Maison Kayser      2\n",
       "2                         La Bagel Delight      2\n",
       "6                    Sophies Cuban Cuisine      2\n",
       "8                       My Little Pizzeria      1\n",
       "46                  Chipotle Mexican Grill      1\n",
       "26                        Lassen & Hennigs      1\n",
       "35                               Five Guys      1\n",
       "1             Damascus Bread & Pastry Shop      1\n",
       "38                         Doner Kebab NYC      1\n",
       "15                               Bien Cuit      1\n",
       "13                              Luzzo's BK      1\n",
       "44                         Iron Chef House      1\n",
       "7                       Sottocasa Pizzeria      1\n",
       "17                              Grand Army      0\n",
       "16                      Dos Toros Taquería      0\n",
       "42                                 La Vara      0\n",
       "47                            Yaso Tangbao      0\n",
       "3                    Shelsky's of Brooklyn      0\n",
       "33                   The Atlantic ChipShop      0\n",
       "45                               Piz-zetta      0\n",
       "34                               Bar Tabac      0\n",
       "18                          Paris Baguette      0\n",
       "0                                    Queen     -1\n",
       "32                                Chez Moi     -1\n",
       "48                              River Deli     -1\n",
       "27  Rocco's Tacos and Tequila Bar Brooklyn     -1\n",
       "25                     Court Street Bagels     -1\n",
       "22                            Henry Public     -1\n",
       "21                                  Hibino     -1\n",
       "4                               Yemen Cafe     -1\n",
       "20                            Dellarocco's     -1\n",
       "9                         Gregory's Coffee     -1\n",
       "40                              Bareburger     -2\n",
       "36                               Pio Bagel     -2\n",
       "37                   Saketumi Asian Bistro     -2\n",
       "43                           Sushi Gallery     -2\n",
       "11                            French Louie     -3\n",
       "30             Fast and Fresh Burrito Deli     -3\n",
       "19                                Ki Sushi     -3\n",
       "29                        Beasts & Bottles     -3\n",
       "24                        One Girl Cookies     -3\n",
       "12                             Wild Ginger     -4"
      ]
     },
     "execution_count": 18,
     "metadata": {},
     "output_type": "execute_result"
    }
   ],
   "source": [
    "df_lunch_votes_sorted"
   ]
  },
  {
   "cell_type": "markdown",
   "metadata": {},
   "source": [
    "A restaurant is selected at random from the top 8."
   ]
  },
  {
   "cell_type": "code",
   "execution_count": 19,
   "metadata": {},
   "outputs": [
    {
     "data": {
      "text/plain": [
       "39    Korilla BBQ\n",
       "Name: restaurants, dtype: object"
      ]
     },
     "execution_count": 19,
     "metadata": {},
     "output_type": "execute_result"
    }
   ],
   "source": [
    "df_lunch_votes_sorted['restaurants'][:8].sample()"
   ]
  },
  {
   "cell_type": "markdown",
   "metadata": {},
   "source": [
    "#### Determining user compatibilities for <code>user 0</code>"
   ]
  },
  {
   "cell_type": "markdown",
   "metadata": {},
   "source": [
    "We create a dictionary that computes a number from -1 to 1 between <code>user0</code> and all other users. The closer the value is to 1, the more compatible the two users' preferences. Values close to -1 means the users differ significantly."
   ]
  },
  {
   "cell_type": "code",
   "execution_count": 20,
   "metadata": {},
   "outputs": [],
   "source": [
    "comp = {}\n",
    "for user in user_df[user_df['users'] != 'user0'].users:\n",
    "    mySum = 0\n",
    "    count = 0\n",
    "    for restaurant in restaurants:\n",
    "        a = 0\n",
    "        b = 0\n",
    "        if restaurant in user_df['good restaurants'][user_df['users']=='user0'].tolist()[0]:\n",
    "            a = 1\n",
    "        elif restaurant in user_df['bad restaurants'][user_df['users']=='user0'].tolist()[0]:\n",
    "            a = -1\n",
    "        if restaurant in user_df['good restaurants'][user_df['users']==user].tolist()[0]:\n",
    "            b = 1\n",
    "        elif restaurant in user_df['bad restaurants'][user_df['users']==user].tolist()[0]:\n",
    "            b = -1    \n",
    "        mySum += a*b\n",
    "        count += abs(a*b)\n",
    "    if count:\n",
    "        comp[user] = round(mySum/count,2)\n",
    "    else:\n",
    "        comp[user] = 0"
   ]
  },
  {
   "cell_type": "markdown",
   "metadata": {},
   "source": [
    "We now extract the users with the highest compatibility score with <code>user0</code>."
   ]
  },
  {
   "cell_type": "code",
   "execution_count": 21,
   "metadata": {},
   "outputs": [],
   "source": [
    "compMax = max(comp.values())"
   ]
  },
  {
   "cell_type": "code",
   "execution_count": 22,
   "metadata": {},
   "outputs": [
    {
     "name": "stdout",
     "output_type": "stream",
     "text": [
      "user2\n"
     ]
    }
   ],
   "source": [
    "for k,v in comp.items():\n",
    "    if comp[k] == compMax:\n",
    "        print(k)"
   ]
  },
  {
   "cell_type": "markdown",
   "metadata": {},
   "source": [
    "Now that we know that <code>user2</code> has the most similar preferences to <code>user0</code>, we extract restaurants in <code>user2</code>'s lists of preferences that are not in <code>user0</code>'s preferences to make recommendations."
   ]
  },
  {
   "cell_type": "code",
   "execution_count": 24,
   "metadata": {},
   "outputs": [
    {
     "data": {
      "text/plain": [
       "{'Bar Tabac',\n",
       " 'Bareburger',\n",
       " 'DeKalb Market Hall',\n",
       " 'Iron Chef House',\n",
       " 'Maison Kayser',\n",
       " 'Panera Bread',\n",
       " \"Rocco's Tacos and Tequila Bar Brooklyn\",\n",
       " 'The Gumbo Bros'}"
      ]
     },
     "execution_count": 24,
     "metadata": {},
     "output_type": "execute_result"
    }
   ],
   "source": [
    "A = set(user_df['good restaurants'][user_df['users']=='user0'].tolist()[0])\n",
    "B = set(user_df['good restaurants'][user_df['users']=='user2'].tolist()[0])\n",
    "B-A"
   ]
  }
 ],
 "metadata": {
  "kernelspec": {
   "display_name": "Python 3",
   "language": "python",
   "name": "python3"
  },
  "language_info": {
   "codemirror_mode": {
    "name": "ipython",
    "version": 3
   },
   "file_extension": ".py",
   "mimetype": "text/x-python",
   "name": "python",
   "nbconvert_exporter": "python",
   "pygments_lexer": "ipython3",
   "version": "3.6.4"
  }
 },
 "nbformat": 4,
 "nbformat_minor": 2
}
