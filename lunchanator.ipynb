{
 "cells": [
  {
   "cell_type": "code",
   "execution_count": 96,
   "metadata": {},
   "outputs": [],
   "source": [
    "import requests\n",
    "import json\n",
    "import geocoder\n",
    "import numpy as np\n",
    "import pandas as pd"
   ]
  },
  {
   "cell_type": "code",
   "execution_count": 6,
   "metadata": {},
   "outputs": [],
   "source": [
    "g = geocoder.bing('Brooklyn, NY', key='AotgMikv-IbXolSLqnnduQm27CVjN0zihKAgLhEmic-z913hSfwZB0UjeDXYJulD')"
   ]
  },
  {
   "cell_type": "code",
   "execution_count": 84,
   "metadata": {},
   "outputs": [],
   "source": [
    "url = 'https://api.foursquare.com/v2/venues/explore'\n",
    "\n",
    "params = dict(\n",
    "  client_id = 'JJZPRPAN3YE1FTOG3NXK253ROHHNCQ5IU2GHXGUV4IS0VRCI', # your Foursquare ID\n",
    "  client_secret = 'O3WFKOGCMPG333GLSTRNEQ2LV2UMGL1AJZGZBQWGDMLLFZMK', # your Foursquare Secret\n",
    "  v = '20180605', # Foursquare API version\n",
    "  ll = str(g.json['lat']) + ',' + str(g.json['lng']),\n",
    "  query = 'restaurant',\n",
    "  radius = 1000,\n",
    "  limit = 50,\n",
    ")\n",
    "resp = requests.get(url=url, params=params)\n",
    "data = json.loads(resp.text)"
   ]
  },
  {
   "cell_type": "code",
   "execution_count": 87,
   "metadata": {},
   "outputs": [],
   "source": [
    "restaurants = []\n",
    "for m in data['response']['groups'][0]['items']:\n",
    "    restaurants.append(m['venue']['name'])"
   ]
  },
  {
   "cell_type": "code",
   "execution_count": 106,
   "metadata": {},
   "outputs": [],
   "source": [
    "d = {}\n",
    "d['users'] = ['user'+str(i) for i in range(20)]\n",
    "d['good restaurants'] = []\n",
    "d['bad restaurants'] = []\n",
    "for i in range(1,21):\n",
    "    restaurant_list = np.random.choice(restaurants, size=30, replace=False)\n",
    "    d['good restaurants'].append(restaurant_list[:15])\n",
    "    d['bad restaurants'].append(restaurant_list[15:])"
   ]
  },
  {
   "cell_type": "code",
   "execution_count": 107,
   "metadata": {},
   "outputs": [],
   "source": [
    "user_df = pd.DataFrame.from_dict(d)"
   ]
  },
  {
   "cell_type": "code",
   "execution_count": 108,
   "metadata": {},
   "outputs": [],
   "source": [
    "user_df = user_df[['users','good restaurants','bad restaurants']]"
   ]
  },
  {
   "cell_type": "code",
   "execution_count": 109,
   "metadata": {},
   "outputs": [
    {
     "data": {
      "text/html": [
       "<div>\n",
       "<style scoped>\n",
       "    .dataframe tbody tr th:only-of-type {\n",
       "        vertical-align: middle;\n",
       "    }\n",
       "\n",
       "    .dataframe tbody tr th {\n",
       "        vertical-align: top;\n",
       "    }\n",
       "\n",
       "    .dataframe thead th {\n",
       "        text-align: right;\n",
       "    }\n",
       "</style>\n",
       "<table border=\"1\" class=\"dataframe\">\n",
       "  <thead>\n",
       "    <tr style=\"text-align: right;\">\n",
       "      <th></th>\n",
       "      <th>users</th>\n",
       "      <th>good restaurants</th>\n",
       "      <th>bad restaurants</th>\n",
       "    </tr>\n",
       "  </thead>\n",
       "  <tbody>\n",
       "    <tr>\n",
       "      <th>0</th>\n",
       "      <td>user0</td>\n",
       "      <td>[Fast and Fresh Burrito Deli, DeKalb Market Ha...</td>\n",
       "      <td>[Paris Baguette, Mile End Delicatessen, Court ...</td>\n",
       "    </tr>\n",
       "    <tr>\n",
       "      <th>1</th>\n",
       "      <td>user1</td>\n",
       "      <td>[Court Street Bagels, Chez Moi, One Girl Cooki...</td>\n",
       "      <td>[Wild Ginger, Beasts &amp; Bottles, Colonie, Henry...</td>\n",
       "    </tr>\n",
       "    <tr>\n",
       "      <th>2</th>\n",
       "      <td>user2</td>\n",
       "      <td>[Bar Tabac, Bien Cuit, Dellarocco's, Beasts &amp; ...</td>\n",
       "      <td>[The Gumbo Bros, Yemen Cafe, My Little Pizzeri...</td>\n",
       "    </tr>\n",
       "    <tr>\n",
       "      <th>3</th>\n",
       "      <td>user3</td>\n",
       "      <td>[Pio Bagel, Grand Army, One Girl Cookies, Mile...</td>\n",
       "      <td>[DeKalb Market Hall, Court Street Bagels, Five...</td>\n",
       "    </tr>\n",
       "    <tr>\n",
       "      <th>4</th>\n",
       "      <td>user4</td>\n",
       "      <td>[two8two Bar &amp; Burger, Chipotle Mexican Grill,...</td>\n",
       "      <td>[Doner Kebab NYC, Maison Kayser, French Louie,...</td>\n",
       "    </tr>\n",
       "  </tbody>\n",
       "</table>\n",
       "</div>"
      ],
      "text/plain": [
       "   users                                   good restaurants  \\\n",
       "0  user0  [Fast and Fresh Burrito Deli, DeKalb Market Ha...   \n",
       "1  user1  [Court Street Bagels, Chez Moi, One Girl Cooki...   \n",
       "2  user2  [Bar Tabac, Bien Cuit, Dellarocco's, Beasts & ...   \n",
       "3  user3  [Pio Bagel, Grand Army, One Girl Cookies, Mile...   \n",
       "4  user4  [two8two Bar & Burger, Chipotle Mexican Grill,...   \n",
       "\n",
       "                                     bad restaurants  \n",
       "0  [Paris Baguette, Mile End Delicatessen, Court ...  \n",
       "1  [Wild Ginger, Beasts & Bottles, Colonie, Henry...  \n",
       "2  [The Gumbo Bros, Yemen Cafe, My Little Pizzeri...  \n",
       "3  [DeKalb Market Hall, Court Street Bagels, Five...  \n",
       "4  [Doner Kebab NYC, Maison Kayser, French Louie,...  "
      ]
     },
     "execution_count": 109,
     "metadata": {},
     "output_type": "execute_result"
    }
   ],
   "source": [
    "user_df.head()"
   ]
  },
  {
   "cell_type": "code",
   "execution_count": 114,
   "metadata": {},
   "outputs": [],
   "source": [
    "df_lunch_group = user_df.sample(n=6)"
   ]
  },
  {
   "cell_type": "code",
   "execution_count": 122,
   "metadata": {},
   "outputs": [],
   "source": [
    "df_lunch_group = df_lunch_group.sort_index()"
   ]
  },
  {
   "cell_type": "code",
   "execution_count": 123,
   "metadata": {},
   "outputs": [
    {
     "data": {
      "text/html": [
       "<div>\n",
       "<style scoped>\n",
       "    .dataframe tbody tr th:only-of-type {\n",
       "        vertical-align: middle;\n",
       "    }\n",
       "\n",
       "    .dataframe tbody tr th {\n",
       "        vertical-align: top;\n",
       "    }\n",
       "\n",
       "    .dataframe thead th {\n",
       "        text-align: right;\n",
       "    }\n",
       "</style>\n",
       "<table border=\"1\" class=\"dataframe\">\n",
       "  <thead>\n",
       "    <tr style=\"text-align: right;\">\n",
       "      <th></th>\n",
       "      <th>users</th>\n",
       "      <th>good restaurants</th>\n",
       "      <th>bad restaurants</th>\n",
       "    </tr>\n",
       "  </thead>\n",
       "  <tbody>\n",
       "    <tr>\n",
       "      <th>0</th>\n",
       "      <td>user0</td>\n",
       "      <td>[Fast and Fresh Burrito Deli, DeKalb Market Ha...</td>\n",
       "      <td>[Paris Baguette, Mile End Delicatessen, Court ...</td>\n",
       "    </tr>\n",
       "    <tr>\n",
       "      <th>3</th>\n",
       "      <td>user3</td>\n",
       "      <td>[Pio Bagel, Grand Army, One Girl Cookies, Mile...</td>\n",
       "      <td>[DeKalb Market Hall, Court Street Bagels, Five...</td>\n",
       "    </tr>\n",
       "    <tr>\n",
       "      <th>10</th>\n",
       "      <td>user10</td>\n",
       "      <td>[Five Guys, Wild Ginger, Luzzo's BK, Saketumi ...</td>\n",
       "      <td>[Court Street Bagels, Bar Tabac, Rocco's Tacos...</td>\n",
       "    </tr>\n",
       "    <tr>\n",
       "      <th>11</th>\n",
       "      <td>user11</td>\n",
       "      <td>[Colonie, Table 87, Dos Toros Taquería, Gregor...</td>\n",
       "      <td>[Paris Baguette, Grand Army, Saketumi Asian Bi...</td>\n",
       "    </tr>\n",
       "    <tr>\n",
       "      <th>15</th>\n",
       "      <td>user15</td>\n",
       "      <td>[Shelsky's of Brooklyn, Rocco's Tacos and Tequ...</td>\n",
       "      <td>[DeKalb Market Hall, Five Guys, Chipotle Mexic...</td>\n",
       "    </tr>\n",
       "    <tr>\n",
       "      <th>18</th>\n",
       "      <td>user18</td>\n",
       "      <td>[My Little Pizzeria, Hibino, Shelsky's of Broo...</td>\n",
       "      <td>[Wild Ginger, Court Street Bagels, The Gumbo B...</td>\n",
       "    </tr>\n",
       "  </tbody>\n",
       "</table>\n",
       "</div>"
      ],
      "text/plain": [
       "     users                                   good restaurants  \\\n",
       "0    user0  [Fast and Fresh Burrito Deli, DeKalb Market Ha...   \n",
       "3    user3  [Pio Bagel, Grand Army, One Girl Cookies, Mile...   \n",
       "10  user10  [Five Guys, Wild Ginger, Luzzo's BK, Saketumi ...   \n",
       "11  user11  [Colonie, Table 87, Dos Toros Taquería, Gregor...   \n",
       "15  user15  [Shelsky's of Brooklyn, Rocco's Tacos and Tequ...   \n",
       "18  user18  [My Little Pizzeria, Hibino, Shelsky's of Broo...   \n",
       "\n",
       "                                      bad restaurants  \n",
       "0   [Paris Baguette, Mile End Delicatessen, Court ...  \n",
       "3   [DeKalb Market Hall, Court Street Bagels, Five...  \n",
       "10  [Court Street Bagels, Bar Tabac, Rocco's Tacos...  \n",
       "11  [Paris Baguette, Grand Army, Saketumi Asian Bi...  \n",
       "15  [DeKalb Market Hall, Five Guys, Chipotle Mexic...  \n",
       "18  [Wild Ginger, Court Street Bagels, The Gumbo B...  "
      ]
     },
     "execution_count": 123,
     "metadata": {},
     "output_type": "execute_result"
    }
   ],
   "source": [
    "df_lunch_group"
   ]
  },
  {
   "cell_type": "code",
   "execution_count": 133,
   "metadata": {},
   "outputs": [],
   "source": [
    "lunch_votes = [(restaurant,0) for restaurant in restaurants]"
   ]
  },
  {
   "cell_type": "code",
   "execution_count": 134,
   "metadata": {},
   "outputs": [],
   "source": [
    "lunch_dict = dict(lunch_votes)"
   ]
  },
  {
   "cell_type": "code",
   "execution_count": 135,
   "metadata": {},
   "outputs": [
    {
     "data": {
      "text/plain": [
       "{'Bar Tabac': 0,\n",
       " 'Bareburger': 0,\n",
       " 'Beasts & Bottles': 0,\n",
       " 'Bien Cuit': 0,\n",
       " 'Chez Moi': 0,\n",
       " 'Chipotle Mexican Grill': 0,\n",
       " 'Colonie': 0,\n",
       " 'Court Street Bagels': 0,\n",
       " 'Damascus Bread & Pastry Shop': 0,\n",
       " 'DeKalb Market Hall': 0,\n",
       " \"Dellarocco's\": 0,\n",
       " 'Doner Kebab NYC': 0,\n",
       " 'Dos Toros Taquería': 0,\n",
       " 'Fast and Fresh Burrito Deli': 0,\n",
       " 'Five Guys': 0,\n",
       " 'French Louie': 0,\n",
       " 'Grand Army': 0,\n",
       " \"Gregory's Coffee\": 0,\n",
       " 'Henry Public': 0,\n",
       " 'Hibino': 0,\n",
       " 'Iron Chef House': 0,\n",
       " 'Ki Sushi': 0,\n",
       " 'La Bagel Delight': 0,\n",
       " 'La Vara': 0,\n",
       " 'Lassen & Hennigs': 0,\n",
       " \"Luzzo's BK\": 0,\n",
       " 'Maison Kayser': 0,\n",
       " 'Mile End Delicatessen': 0,\n",
       " 'My Little Pizzeria': 0,\n",
       " 'One Girl Cookies': 0,\n",
       " 'Panera Bread': 0,\n",
       " 'Paris Baguette': 0,\n",
       " 'Pio Bagel': 0,\n",
       " 'Piz-zetta': 0,\n",
       " 'Queen': 0,\n",
       " 'River Deli': 0,\n",
       " \"Rocco's Tacos and Tequila Bar Brooklyn\": 0,\n",
       " 'Saketumi Asian Bistro': 0,\n",
       " \"Shelsky's of Brooklyn\": 0,\n",
       " 'Sophies Cuban Cuisine': 0,\n",
       " 'Sottocasa Pizzeria': 0,\n",
       " 'Sushi Gallery': 0,\n",
       " 'Table 87': 0,\n",
       " 'The Atlantic ChipShop': 0,\n",
       " 'The Gumbo Bros': 0,\n",
       " 'Wild Ginger': 0,\n",
       " 'Yaso Tangbao': 0,\n",
       " 'Yemen Cafe': 0,\n",
       " 'two8two Bar & Burger': 0}"
      ]
     },
     "execution_count": 135,
     "metadata": {},
     "output_type": "execute_result"
    }
   ],
   "source": [
    "lunch_dict"
   ]
  },
  {
   "cell_type": "code",
   "execution_count": 136,
   "metadata": {},
   "outputs": [],
   "source": [
    "for rest in lunch_dict.keys():\n",
    "    for good_choice in df_lunch_group['good restaurants']:\n",
    "        if rest in good_choice:\n",
    "            lunch_dict[rest] += 1\n",
    "    for bad_choice in df_lunch_group['bad restaurants']:\n",
    "        if rest in bad_choice:\n",
    "            lunch_dict[rest] -= 1"
   ]
  },
  {
   "cell_type": "code",
   "execution_count": null,
   "metadata": {},
   "outputs": [],
   "source": []
  }
 ],
 "metadata": {
  "kernelspec": {
   "display_name": "Python 3",
   "language": "python",
   "name": "python3"
  },
  "language_info": {
   "codemirror_mode": {
    "name": "ipython",
    "version": 3
   },
   "file_extension": ".py",
   "mimetype": "text/x-python",
   "name": "python",
   "nbconvert_exporter": "python",
   "pygments_lexer": "ipython3",
   "version": "3.6.4"
  }
 },
 "nbformat": 4,
 "nbformat_minor": 2
}
