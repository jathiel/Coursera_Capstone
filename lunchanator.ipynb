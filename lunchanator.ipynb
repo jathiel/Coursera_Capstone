{
 "cells": [
  {
   "cell_type": "markdown",
   "metadata": {},
   "source": [
    "# Lunchanator\n",
    "\n",
    "## The lunch deciding utility.\n",
    "\n",
    "Lunchanator helps groups of people decide where to eat together"
   ]
  },
  {
   "cell_type": "markdown",
   "metadata": {},
   "source": [
    "Importing needed packages"
   ]
  },
  {
   "cell_type": "code",
   "execution_count": 2,
   "metadata": {},
   "outputs": [],
   "source": [
    "import requests\n",
    "import json\n",
    "import geocoder\n",
    "import numpy as np\n",
    "import pandas as pd"
   ]
  },
  {
   "cell_type": "markdown",
   "metadata": {},
   "source": [
    "We used the Bing geocoder because the Google limit for the month was reached via other projects."
   ]
  },
  {
   "cell_type": "code",
   "execution_count": 3,
   "metadata": {},
   "outputs": [],
   "source": [
    "g = geocoder.bing('Brooklyn, NY', key='')"
   ]
  },
  {
   "cell_type": "markdown",
   "metadata": {},
   "source": [
    "Foursquare request for restaurants in the Brooklyn, NY area."
   ]
  },
  {
   "cell_type": "code",
   "execution_count": 4,
   "metadata": {},
   "outputs": [],
   "source": [
    "url = 'https://api.foursquare.com/v2/venues/explore'\n",
    "\n",
    "params = dict(\n",
    "  client_id = '', # your Foursquare ID\n",
    "  client_secret = '', # your Foursquare Secret\n",
    "  v = '20180605', # Foursquare API version\n",
    "  ll = str(g.json['lat']) + ',' + str(g.json['lng']),\n",
    "  query = 'restaurant',\n",
    "  radius = 1000,\n",
    "  limit = 50,\n",
    ")\n",
    "resp = requests.get(url=url, params=params)\n",
    "data = json.loads(resp.text)"
   ]
  },
  {
   "cell_type": "markdown",
   "metadata": {},
   "source": [
    "Parsing results into a list containing restaurant names."
   ]
  },
  {
   "cell_type": "code",
   "execution_count": 5,
   "metadata": {},
   "outputs": [],
   "source": [
    "restaurants = []\n",
    "for m in data['response']['groups'][0]['items']:\n",
    "    restaurants.append(m['venue']['name'])"
   ]
  },
  {
   "cell_type": "markdown",
   "metadata": {},
   "source": [
    "This block generates a pretend dataset of 20 users each having selected 15 \"good\" and 15 \"bad\" restaurants each. Note that no user can have the same restaurant in both categories."
   ]
  },
  {
   "cell_type": "code",
   "execution_count": 6,
   "metadata": {},
   "outputs": [],
   "source": [
    "d = {}\n",
    "d['users'] = ['user'+str(i) for i in range(20)]\n",
    "d['good restaurants'] = []\n",
    "d['bad restaurants'] = []\n",
    "for i in range(1,21):\n",
    "    restaurant_list = np.random.choice(restaurants, size=30, replace=False)\n",
    "    d['good restaurants'].append(restaurant_list[:15])\n",
    "    d['bad restaurants'].append(restaurant_list[15:])"
   ]
  },
  {
   "cell_type": "markdown",
   "metadata": {},
   "source": [
    "Transforming the above generated data into a dataframe."
   ]
  },
  {
   "cell_type": "code",
   "execution_count": 7,
   "metadata": {},
   "outputs": [],
   "source": [
    "user_df = pd.DataFrame.from_dict(d)"
   ]
  },
  {
   "cell_type": "code",
   "execution_count": 8,
   "metadata": {},
   "outputs": [],
   "source": [
    "user_df = user_df[['users','good restaurants','bad restaurants']]"
   ]
  },
  {
   "cell_type": "markdown",
   "metadata": {},
   "source": [
    "An example of user data."
   ]
  },
  {
   "cell_type": "code",
   "execution_count": 9,
   "metadata": {},
   "outputs": [
    {
     "data": {
      "text/html": [
       "<div>\n",
       "<style scoped>\n",
       "    .dataframe tbody tr th:only-of-type {\n",
       "        vertical-align: middle;\n",
       "    }\n",
       "\n",
       "    .dataframe tbody tr th {\n",
       "        vertical-align: top;\n",
       "    }\n",
       "\n",
       "    .dataframe thead th {\n",
       "        text-align: right;\n",
       "    }\n",
       "</style>\n",
       "<table border=\"1\" class=\"dataframe\">\n",
       "  <thead>\n",
       "    <tr style=\"text-align: right;\">\n",
       "      <th></th>\n",
       "      <th>users</th>\n",
       "      <th>good restaurants</th>\n",
       "      <th>bad restaurants</th>\n",
       "    </tr>\n",
       "  </thead>\n",
       "  <tbody>\n",
       "    <tr>\n",
       "      <th>0</th>\n",
       "      <td>user0</td>\n",
       "      <td>[Sottocasa Pizzeria, Grand Army, Luzzo's BK, D...</td>\n",
       "      <td>[Sophies Cuban Cuisine, two8two Bar &amp; Burger, ...</td>\n",
       "    </tr>\n",
       "    <tr>\n",
       "      <th>1</th>\n",
       "      <td>user1</td>\n",
       "      <td>[Table 87, Gregory's Coffee, two8two Bar &amp; Bur...</td>\n",
       "      <td>[Mile End Delicatessen, Five Guys, Sottocasa P...</td>\n",
       "    </tr>\n",
       "    <tr>\n",
       "      <th>2</th>\n",
       "      <td>user2</td>\n",
       "      <td>[La Bagel Delight, Bien Cuit, Chez Moi, Hibino...</td>\n",
       "      <td>[Dos Toros Taquería, Paris Baguette, French Lo...</td>\n",
       "    </tr>\n",
       "    <tr>\n",
       "      <th>3</th>\n",
       "      <td>user3</td>\n",
       "      <td>[One Girl Cookies, Chipotle Mexican Grill, Luz...</td>\n",
       "      <td>[My Little Pizzeria, DeKalb Market Hall, Sotto...</td>\n",
       "    </tr>\n",
       "    <tr>\n",
       "      <th>4</th>\n",
       "      <td>user4</td>\n",
       "      <td>[Iron Chef House, Dellarocco's, La Vara, Fast ...</td>\n",
       "      <td>[Beasts &amp; Bottles, Maison Kayser, Yemen Cafe, ...</td>\n",
       "    </tr>\n",
       "  </tbody>\n",
       "</table>\n",
       "</div>"
      ],
      "text/plain": [
       "   users                                   good restaurants  \\\n",
       "0  user0  [Sottocasa Pizzeria, Grand Army, Luzzo's BK, D...   \n",
       "1  user1  [Table 87, Gregory's Coffee, two8two Bar & Bur...   \n",
       "2  user2  [La Bagel Delight, Bien Cuit, Chez Moi, Hibino...   \n",
       "3  user3  [One Girl Cookies, Chipotle Mexican Grill, Luz...   \n",
       "4  user4  [Iron Chef House, Dellarocco's, La Vara, Fast ...   \n",
       "\n",
       "                                     bad restaurants  \n",
       "0  [Sophies Cuban Cuisine, two8two Bar & Burger, ...  \n",
       "1  [Mile End Delicatessen, Five Guys, Sottocasa P...  \n",
       "2  [Dos Toros Taquería, Paris Baguette, French Lo...  \n",
       "3  [My Little Pizzeria, DeKalb Market Hall, Sotto...  \n",
       "4  [Beasts & Bottles, Maison Kayser, Yemen Cafe, ...  "
      ]
     },
     "execution_count": 9,
     "metadata": {},
     "output_type": "execute_result"
    }
   ],
   "source": [
    "user_df.head()"
   ]
  },
  {
   "cell_type": "markdown",
   "metadata": {},
   "source": [
    "Creating a group of 6 people at random that wish to have lunch together."
   ]
  },
  {
   "cell_type": "code",
   "execution_count": 10,
   "metadata": {},
   "outputs": [],
   "source": [
    "df_lunch_group = user_df.sample(n=6)"
   ]
  },
  {
   "cell_type": "code",
   "execution_count": 11,
   "metadata": {},
   "outputs": [],
   "source": [
    "df_lunch_group = df_lunch_group.sort_index()"
   ]
  },
  {
   "cell_type": "markdown",
   "metadata": {},
   "source": [
    "The lunch group."
   ]
  },
  {
   "cell_type": "code",
   "execution_count": 12,
   "metadata": {},
   "outputs": [
    {
     "data": {
      "text/html": [
       "<div>\n",
       "<style scoped>\n",
       "    .dataframe tbody tr th:only-of-type {\n",
       "        vertical-align: middle;\n",
       "    }\n",
       "\n",
       "    .dataframe tbody tr th {\n",
       "        vertical-align: top;\n",
       "    }\n",
       "\n",
       "    .dataframe thead th {\n",
       "        text-align: right;\n",
       "    }\n",
       "</style>\n",
       "<table border=\"1\" class=\"dataframe\">\n",
       "  <thead>\n",
       "    <tr style=\"text-align: right;\">\n",
       "      <th></th>\n",
       "      <th>users</th>\n",
       "      <th>good restaurants</th>\n",
       "      <th>bad restaurants</th>\n",
       "    </tr>\n",
       "  </thead>\n",
       "  <tbody>\n",
       "    <tr>\n",
       "      <th>3</th>\n",
       "      <td>user3</td>\n",
       "      <td>[One Girl Cookies, Chipotle Mexican Grill, Luz...</td>\n",
       "      <td>[My Little Pizzeria, DeKalb Market Hall, Sotto...</td>\n",
       "    </tr>\n",
       "    <tr>\n",
       "      <th>9</th>\n",
       "      <td>user9</td>\n",
       "      <td>[Ki Sushi, Mile End Delicatessen, Grand Army, ...</td>\n",
       "      <td>[Court Street Bagels, Shelsky's of Brooklyn, M...</td>\n",
       "    </tr>\n",
       "    <tr>\n",
       "      <th>11</th>\n",
       "      <td>user11</td>\n",
       "      <td>[Five Guys, Sottocasa Pizzeria, Gregory's Coff...</td>\n",
       "      <td>[Shelsky's of Brooklyn, Doner Kebab NYC, Luzzo...</td>\n",
       "    </tr>\n",
       "    <tr>\n",
       "      <th>12</th>\n",
       "      <td>user12</td>\n",
       "      <td>[Piz-zetta, Dellarocco's, Table 87, Five Guys,...</td>\n",
       "      <td>[Dos Toros Taquería, Colonie, Luzzo's BK, Mais...</td>\n",
       "    </tr>\n",
       "    <tr>\n",
       "      <th>14</th>\n",
       "      <td>user14</td>\n",
       "      <td>[Gregory's Coffee, Yaso Tangbao, Sophies Cuban...</td>\n",
       "      <td>[Wild Ginger, Lassen &amp; Hennigs, Piz-zetta, Don...</td>\n",
       "    </tr>\n",
       "    <tr>\n",
       "      <th>15</th>\n",
       "      <td>user15</td>\n",
       "      <td>[Sushi Gallery, River Deli, The Gumbo Bros, Ch...</td>\n",
       "      <td>[Hibino, One Girl Cookies, Bar Tabac, Henry Pu...</td>\n",
       "    </tr>\n",
       "  </tbody>\n",
       "</table>\n",
       "</div>"
      ],
      "text/plain": [
       "     users                                   good restaurants  \\\n",
       "3    user3  [One Girl Cookies, Chipotle Mexican Grill, Luz...   \n",
       "9    user9  [Ki Sushi, Mile End Delicatessen, Grand Army, ...   \n",
       "11  user11  [Five Guys, Sottocasa Pizzeria, Gregory's Coff...   \n",
       "12  user12  [Piz-zetta, Dellarocco's, Table 87, Five Guys,...   \n",
       "14  user14  [Gregory's Coffee, Yaso Tangbao, Sophies Cuban...   \n",
       "15  user15  [Sushi Gallery, River Deli, The Gumbo Bros, Ch...   \n",
       "\n",
       "                                      bad restaurants  \n",
       "3   [My Little Pizzeria, DeKalb Market Hall, Sotto...  \n",
       "9   [Court Street Bagels, Shelsky's of Brooklyn, M...  \n",
       "11  [Shelsky's of Brooklyn, Doner Kebab NYC, Luzzo...  \n",
       "12  [Dos Toros Taquería, Colonie, Luzzo's BK, Mais...  \n",
       "14  [Wild Ginger, Lassen & Hennigs, Piz-zetta, Don...  \n",
       "15  [Hibino, One Girl Cookies, Bar Tabac, Henry Pu...  "
      ]
     },
     "execution_count": 12,
     "metadata": {},
     "output_type": "execute_result"
    }
   ],
   "source": [
    "df_lunch_group"
   ]
  },
  {
   "cell_type": "markdown",
   "metadata": {},
   "source": [
    "Creating the list of restaurants that will be voted on."
   ]
  },
  {
   "cell_type": "code",
   "execution_count": 13,
   "metadata": {},
   "outputs": [],
   "source": [
    "lunch_votes = [(restaurant,0) for restaurant in restaurants]"
   ]
  },
  {
   "cell_type": "code",
   "execution_count": 14,
   "metadata": {},
   "outputs": [],
   "source": [
    "lunch_dict = dict(lunch_votes)"
   ]
  },
  {
   "cell_type": "markdown",
   "metadata": {},
   "source": [
    "Tallying votes."
   ]
  },
  {
   "cell_type": "code",
   "execution_count": 15,
   "metadata": {},
   "outputs": [],
   "source": [
    "for rest in lunch_dict.keys():\n",
    "    for good_choice in df_lunch_group['good restaurants']:\n",
    "        if rest in good_choice:\n",
    "            lunch_dict[rest] += 1\n",
    "    for bad_choice in df_lunch_group['bad restaurants']:\n",
    "        if rest in bad_choice:\n",
    "            lunch_dict[rest] -= 1"
   ]
  },
  {
   "cell_type": "markdown",
   "metadata": {},
   "source": [
    "Conversion to properly formatted dataframe."
   ]
  },
  {
   "cell_type": "code",
   "execution_count": 16,
   "metadata": {},
   "outputs": [],
   "source": [
    "d = {'restaurants': [], 'votes': []}\n",
    "for k,v in lunch_dict.items():\n",
    "    d['restaurants'].append(k)\n",
    "    d['votes'].append(v)"
   ]
  },
  {
   "cell_type": "code",
   "execution_count": 17,
   "metadata": {},
   "outputs": [],
   "source": [
    "df_lunch_votes = pd.DataFrame.from_dict(d)"
   ]
  },
  {
   "cell_type": "markdown",
   "metadata": {},
   "source": [
    "Sorting the list of restaurants by vote count."
   ]
  },
  {
   "cell_type": "code",
   "execution_count": 18,
   "metadata": {},
   "outputs": [],
   "source": [
    "df_lunch_votes_sorted = df_lunch_votes.sort_values('votes', ascending = False)"
   ]
  },
  {
   "cell_type": "markdown",
   "metadata": {},
   "source": [
    "The sorted list."
   ]
  },
  {
   "cell_type": "code",
   "execution_count": 19,
   "metadata": {},
   "outputs": [
    {
     "data": {
      "text/html": [
       "<div>\n",
       "<style scoped>\n",
       "    .dataframe tbody tr th:only-of-type {\n",
       "        vertical-align: middle;\n",
       "    }\n",
       "\n",
       "    .dataframe tbody tr th {\n",
       "        vertical-align: top;\n",
       "    }\n",
       "\n",
       "    .dataframe thead th {\n",
       "        text-align: right;\n",
       "    }\n",
       "</style>\n",
       "<table border=\"1\" class=\"dataframe\">\n",
       "  <thead>\n",
       "    <tr style=\"text-align: right;\">\n",
       "      <th></th>\n",
       "      <th>restaurants</th>\n",
       "      <th>votes</th>\n",
       "    </tr>\n",
       "  </thead>\n",
       "  <tbody>\n",
       "    <tr>\n",
       "      <th>8</th>\n",
       "      <td>Gregory's Coffee</td>\n",
       "      <td>4</td>\n",
       "    </tr>\n",
       "    <tr>\n",
       "      <th>18</th>\n",
       "      <td>Ki Sushi</td>\n",
       "      <td>4</td>\n",
       "    </tr>\n",
       "    <tr>\n",
       "      <th>2</th>\n",
       "      <td>La Bagel Delight</td>\n",
       "      <td>3</td>\n",
       "    </tr>\n",
       "    <tr>\n",
       "      <th>32</th>\n",
       "      <td>Mile End Delicatessen</td>\n",
       "      <td>3</td>\n",
       "    </tr>\n",
       "    <tr>\n",
       "      <th>11</th>\n",
       "      <td>French Louie</td>\n",
       "      <td>2</td>\n",
       "    </tr>\n",
       "    <tr>\n",
       "      <th>39</th>\n",
       "      <td>Piz-zetta</td>\n",
       "      <td>2</td>\n",
       "    </tr>\n",
       "    <tr>\n",
       "      <th>15</th>\n",
       "      <td>Bien Cuit</td>\n",
       "      <td>2</td>\n",
       "    </tr>\n",
       "    <tr>\n",
       "      <th>38</th>\n",
       "      <td>Five Guys</td>\n",
       "      <td>2</td>\n",
       "    </tr>\n",
       "    <tr>\n",
       "      <th>21</th>\n",
       "      <td>Hibino</td>\n",
       "      <td>2</td>\n",
       "    </tr>\n",
       "    <tr>\n",
       "      <th>47</th>\n",
       "      <td>Yaso Tangbao</td>\n",
       "      <td>2</td>\n",
       "    </tr>\n",
       "    <tr>\n",
       "      <th>27</th>\n",
       "      <td>Court Street Bagels</td>\n",
       "      <td>1</td>\n",
       "    </tr>\n",
       "    <tr>\n",
       "      <th>44</th>\n",
       "      <td>Chipotle Mexican Grill</td>\n",
       "      <td>1</td>\n",
       "    </tr>\n",
       "    <tr>\n",
       "      <th>30</th>\n",
       "      <td>Beasts &amp; Bottles</td>\n",
       "      <td>1</td>\n",
       "    </tr>\n",
       "    <tr>\n",
       "      <th>43</th>\n",
       "      <td>Sushi Gallery</td>\n",
       "      <td>1</td>\n",
       "    </tr>\n",
       "    <tr>\n",
       "      <th>7</th>\n",
       "      <td>Sottocasa Pizzeria</td>\n",
       "      <td>1</td>\n",
       "    </tr>\n",
       "    <tr>\n",
       "      <th>6</th>\n",
       "      <td>Sophies Cuban Cuisine</td>\n",
       "      <td>1</td>\n",
       "    </tr>\n",
       "    <tr>\n",
       "      <th>5</th>\n",
       "      <td>The Gumbo Bros</td>\n",
       "      <td>1</td>\n",
       "    </tr>\n",
       "    <tr>\n",
       "      <th>4</th>\n",
       "      <td>Yemen Cafe</td>\n",
       "      <td>1</td>\n",
       "    </tr>\n",
       "    <tr>\n",
       "      <th>20</th>\n",
       "      <td>Dellarocco's</td>\n",
       "      <td>1</td>\n",
       "    </tr>\n",
       "    <tr>\n",
       "      <th>26</th>\n",
       "      <td>Lassen &amp; Hennigs</td>\n",
       "      <td>0</td>\n",
       "    </tr>\n",
       "    <tr>\n",
       "      <th>1</th>\n",
       "      <td>Damascus Bread &amp; Pastry Shop</td>\n",
       "      <td>0</td>\n",
       "    </tr>\n",
       "    <tr>\n",
       "      <th>48</th>\n",
       "      <td>River Deli</td>\n",
       "      <td>0</td>\n",
       "    </tr>\n",
       "    <tr>\n",
       "      <th>14</th>\n",
       "      <td>Panera Bread</td>\n",
       "      <td>0</td>\n",
       "    </tr>\n",
       "    <tr>\n",
       "      <th>19</th>\n",
       "      <td>Paris Baguette</td>\n",
       "      <td>0</td>\n",
       "    </tr>\n",
       "    <tr>\n",
       "      <th>17</th>\n",
       "      <td>Grand Army</td>\n",
       "      <td>0</td>\n",
       "    </tr>\n",
       "    <tr>\n",
       "      <th>42</th>\n",
       "      <td>La Vara</td>\n",
       "      <td>0</td>\n",
       "    </tr>\n",
       "    <tr>\n",
       "      <th>9</th>\n",
       "      <td>My Little Pizzeria</td>\n",
       "      <td>0</td>\n",
       "    </tr>\n",
       "    <tr>\n",
       "      <th>36</th>\n",
       "      <td>Doner Kebab NYC</td>\n",
       "      <td>0</td>\n",
       "    </tr>\n",
       "    <tr>\n",
       "      <th>34</th>\n",
       "      <td>Bar Tabac</td>\n",
       "      <td>-1</td>\n",
       "    </tr>\n",
       "    <tr>\n",
       "      <th>41</th>\n",
       "      <td>DeKalb Market Hall</td>\n",
       "      <td>-1</td>\n",
       "    </tr>\n",
       "    <tr>\n",
       "      <th>40</th>\n",
       "      <td>Bareburger</td>\n",
       "      <td>-1</td>\n",
       "    </tr>\n",
       "    <tr>\n",
       "      <th>33</th>\n",
       "      <td>The Atlantic ChipShop</td>\n",
       "      <td>-1</td>\n",
       "    </tr>\n",
       "    <tr>\n",
       "      <th>0</th>\n",
       "      <td>Queen</td>\n",
       "      <td>-1</td>\n",
       "    </tr>\n",
       "    <tr>\n",
       "      <th>22</th>\n",
       "      <td>two8two Bar &amp; Burger</td>\n",
       "      <td>-1</td>\n",
       "    </tr>\n",
       "    <tr>\n",
       "      <th>10</th>\n",
       "      <td>Colonie</td>\n",
       "      <td>-1</td>\n",
       "    </tr>\n",
       "    <tr>\n",
       "      <th>3</th>\n",
       "      <td>Shelsky's of Brooklyn</td>\n",
       "      <td>-1</td>\n",
       "    </tr>\n",
       "    <tr>\n",
       "      <th>24</th>\n",
       "      <td>One Girl Cookies</td>\n",
       "      <td>-1</td>\n",
       "    </tr>\n",
       "    <tr>\n",
       "      <th>31</th>\n",
       "      <td>Chez Moi</td>\n",
       "      <td>-2</td>\n",
       "    </tr>\n",
       "    <tr>\n",
       "      <th>29</th>\n",
       "      <td>Fast and Fresh Burrito Deli</td>\n",
       "      <td>-2</td>\n",
       "    </tr>\n",
       "    <tr>\n",
       "      <th>35</th>\n",
       "      <td>Saketumi Asian Bistro</td>\n",
       "      <td>-2</td>\n",
       "    </tr>\n",
       "    <tr>\n",
       "      <th>28</th>\n",
       "      <td>Maison Kayser</td>\n",
       "      <td>-2</td>\n",
       "    </tr>\n",
       "    <tr>\n",
       "      <th>37</th>\n",
       "      <td>Pio Bagel</td>\n",
       "      <td>-2</td>\n",
       "    </tr>\n",
       "    <tr>\n",
       "      <th>25</th>\n",
       "      <td>Rocco's Tacos and Tequila Bar Brooklyn</td>\n",
       "      <td>-2</td>\n",
       "    </tr>\n",
       "    <tr>\n",
       "      <th>16</th>\n",
       "      <td>Dos Toros Taquería</td>\n",
       "      <td>-2</td>\n",
       "    </tr>\n",
       "    <tr>\n",
       "      <th>45</th>\n",
       "      <td>Iron Chef House</td>\n",
       "      <td>-2</td>\n",
       "    </tr>\n",
       "    <tr>\n",
       "      <th>23</th>\n",
       "      <td>Henry Public</td>\n",
       "      <td>-3</td>\n",
       "    </tr>\n",
       "    <tr>\n",
       "      <th>13</th>\n",
       "      <td>Wild Ginger</td>\n",
       "      <td>-3</td>\n",
       "    </tr>\n",
       "    <tr>\n",
       "      <th>46</th>\n",
       "      <td>Table 87</td>\n",
       "      <td>-3</td>\n",
       "    </tr>\n",
       "    <tr>\n",
       "      <th>12</th>\n",
       "      <td>Luzzo's BK</td>\n",
       "      <td>-4</td>\n",
       "    </tr>\n",
       "  </tbody>\n",
       "</table>\n",
       "</div>"
      ],
      "text/plain": [
       "                               restaurants  votes\n",
       "8                         Gregory's Coffee      4\n",
       "18                                Ki Sushi      4\n",
       "2                         La Bagel Delight      3\n",
       "32                   Mile End Delicatessen      3\n",
       "11                            French Louie      2\n",
       "39                               Piz-zetta      2\n",
       "15                               Bien Cuit      2\n",
       "38                               Five Guys      2\n",
       "21                                  Hibino      2\n",
       "47                            Yaso Tangbao      2\n",
       "27                     Court Street Bagels      1\n",
       "44                  Chipotle Mexican Grill      1\n",
       "30                        Beasts & Bottles      1\n",
       "43                           Sushi Gallery      1\n",
       "7                       Sottocasa Pizzeria      1\n",
       "6                    Sophies Cuban Cuisine      1\n",
       "5                           The Gumbo Bros      1\n",
       "4                               Yemen Cafe      1\n",
       "20                            Dellarocco's      1\n",
       "26                        Lassen & Hennigs      0\n",
       "1             Damascus Bread & Pastry Shop      0\n",
       "48                              River Deli      0\n",
       "14                            Panera Bread      0\n",
       "19                          Paris Baguette      0\n",
       "17                              Grand Army      0\n",
       "42                                 La Vara      0\n",
       "9                       My Little Pizzeria      0\n",
       "36                         Doner Kebab NYC      0\n",
       "34                               Bar Tabac     -1\n",
       "41                      DeKalb Market Hall     -1\n",
       "40                              Bareburger     -1\n",
       "33                   The Atlantic ChipShop     -1\n",
       "0                                    Queen     -1\n",
       "22                    two8two Bar & Burger     -1\n",
       "10                                 Colonie     -1\n",
       "3                    Shelsky's of Brooklyn     -1\n",
       "24                        One Girl Cookies     -1\n",
       "31                                Chez Moi     -2\n",
       "29             Fast and Fresh Burrito Deli     -2\n",
       "35                   Saketumi Asian Bistro     -2\n",
       "28                           Maison Kayser     -2\n",
       "37                               Pio Bagel     -2\n",
       "25  Rocco's Tacos and Tequila Bar Brooklyn     -2\n",
       "16                      Dos Toros Taquería     -2\n",
       "45                         Iron Chef House     -2\n",
       "23                            Henry Public     -3\n",
       "13                             Wild Ginger     -3\n",
       "46                                Table 87     -3\n",
       "12                              Luzzo's BK     -4"
      ]
     },
     "execution_count": 19,
     "metadata": {},
     "output_type": "execute_result"
    }
   ],
   "source": [
    "df_lunch_votes_sorted"
   ]
  },
  {
   "cell_type": "markdown",
   "metadata": {},
   "source": [
    "A restaurant is selected at random from the top 8."
   ]
  },
  {
   "cell_type": "code",
   "execution_count": 20,
   "metadata": {},
   "outputs": [
    {
     "data": {
      "text/plain": [
       "11    French Louie\n",
       "Name: restaurants, dtype: object"
      ]
     },
     "execution_count": 20,
     "metadata": {},
     "output_type": "execute_result"
    }
   ],
   "source": [
    "df_lunch_votes_sorted['restaurants'][:8].sample()"
   ]
  }
 ],
 "metadata": {
  "kernelspec": {
   "display_name": "Python 3",
   "language": "python",
   "name": "python3"
  },
  "language_info": {
   "codemirror_mode": {
    "name": "ipython",
    "version": 3
   },
   "file_extension": ".py",
   "mimetype": "text/x-python",
   "name": "python",
   "nbconvert_exporter": "python",
   "pygments_lexer": "ipython3",
   "version": "3.6.4"
  }
 },
 "nbformat": 4,
 "nbformat_minor": 2
}
